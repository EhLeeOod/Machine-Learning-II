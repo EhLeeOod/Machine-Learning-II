{
 "cells": [
  {
   "cell_type": "markdown",
   "id": "3a541f3e-b6e7-4119-a953-e3f57729f16e",
   "metadata": {},
   "source": [
    "# Neural Network Exercise"
   ]
  },
  {
   "cell_type": "code",
   "execution_count": null,
   "id": "c025a495-863f-477e-bf42-a4d7ef22fac4",
   "metadata": {},
   "outputs": [],
   "source": []
  },
  {
   "cell_type": "code",
   "execution_count": null,
   "id": "7e347e21-b3fc-497a-9816-1e311119bca5",
   "metadata": {},
   "outputs": [],
   "source": []
  },
  {
   "cell_type": "code",
   "execution_count": null,
   "id": "86376d0d-20ad-4cf2-ae25-58137bb854e9",
   "metadata": {},
   "outputs": [],
   "source": []
  },
  {
   "cell_type": "code",
   "execution_count": null,
   "id": "bc795744-429d-4dfa-b12e-6e60134157ba",
   "metadata": {},
   "outputs": [],
   "source": []
  }
 ],
 "metadata": {
  "kernelspec": {
   "display_name": "Python (dojo-env)",
   "language": "python",
   "name": "dojo-env"
  },
  "language_info": {
   "codemirror_mode": {
    "name": "ipython",
    "version": 3
   },
   "file_extension": ".py",
   "mimetype": "text/x-python",
   "name": "python",
   "nbconvert_exporter": "python",
   "pygments_lexer": "ipython3",
   "version": "3.10.10"
  },
  "widgets": {
   "application/vnd.jupyter.widget-state+json": {
    "state": {},
    "version_major": 2,
    "version_minor": 0
   }
  }
 },
 "nbformat": 4,
 "nbformat_minor": 5
}
