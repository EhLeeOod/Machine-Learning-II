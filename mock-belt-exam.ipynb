{
 "cells": [
  {
   "cell_type": "markdown",
   "id": "f9f6121c-85f9-4ca0-a257-f419b51a9091",
   "metadata": {},
   "source": [
    "# Mock Belt Exam\n",
    "\n",
    "## Problem:\n",
    "\n",
    "### An airline company would like to know more about their customers and how to please them. They have provided some information about 20,000 customers as well as the results of a satisfaction survey."
   ]
  },
  {
   "cell_type": "markdown",
   "id": "fefa8780-1575-406b-accb-ba17767f78a8",
   "metadata": {},
   "source": [
    "## They would like you to:\n",
    "\n",
    "### 1. Segment the customers into groups and describe those groups, what they have in common and how they differ.\n",
    "\n",
    "### 2. Model the data to see if overall customer satisfaction can be predicted by information about their flights and answers to the survey other than overall satisfaction."
   ]
  },
  {
   "cell_type": "markdown",
   "id": "7a8d7b96-3631-4a00-b38e-38a01d426f2e",
   "metadata": {},
   "source": [
    "### Clustering Instructions:\n",
    "The airline company would like you to segment the customers and create an analytical report on the clusters describing each group and describing how they are different."
   ]
  },
  {
   "cell_type": "markdown",
   "id": "ad2e1b0f-ce63-47d6-8b52-c2baff6f19bd",
   "metadata": {},
   "source": [
    "#### 1. Load the dataset."
   ]
  },
  {
   "cell_type": "markdown",
   "id": "6a251302-7b37-42a4-ab42-d41e6c1e2258",
   "metadata": {},
   "source": [
    "##### Imports"
   ]
  },
  {
   "cell_type": "code",
   "execution_count": 3,
   "id": "62d56b01-0009-4bce-9887-8125ded37331",
   "metadata": {},
   "outputs": [],
   "source": [
    "# import packages\n",
    "import pandas as pd\n",
    "from sklearn.preprocessing import StandardScaler\n",
    "from sklearn.cluster import KMeans\n",
    "from sklearn.metrics import silhouette_score\n",
    "import matplotlib.pyplot as plt"
   ]
  },
  {
   "cell_type": "code",
   "execution_count": 4,
   "id": "5c5a9c51-87d8-40df-9cde-425ee013920a",
   "metadata": {},
   "outputs": [],
   "source": [
    "# import data\n",
    "df = pd.read_csv('Data/airline.csv')"
   ]
  },
  {
   "cell_type": "markdown",
   "id": "a006d133-003e-44d8-9db6-33c2db4224b5",
   "metadata": {},
   "source": [
    "#### 2. Explore the data.\n"
   ]
  },
  {
   "cell_type": "code",
   "execution_count": 5,
   "id": "ba9d1f5f-8186-41bc-9344-5f3b5dcf1485",
   "metadata": {},
   "outputs": [
    {
     "data": {
      "text/html": [
       "<div>\n",
       "<style scoped>\n",
       "    .dataframe tbody tr th:only-of-type {\n",
       "        vertical-align: middle;\n",
       "    }\n",
       "\n",
       "    .dataframe tbody tr th {\n",
       "        vertical-align: top;\n",
       "    }\n",
       "\n",
       "    .dataframe thead th {\n",
       "        text-align: right;\n",
       "    }\n",
       "</style>\n",
       "<table border=\"1\" class=\"dataframe\">\n",
       "  <thead>\n",
       "    <tr style=\"text-align: right;\">\n",
       "      <th></th>\n",
       "      <th>Age</th>\n",
       "      <th>Class</th>\n",
       "      <th>Flight Distance</th>\n",
       "      <th>Inflight wifi service</th>\n",
       "      <th>Departure/Arrival time convenient</th>\n",
       "      <th>Ease of Online booking</th>\n",
       "      <th>Gate location</th>\n",
       "      <th>Food and drink</th>\n",
       "      <th>Online boarding</th>\n",
       "      <th>Seat comfort</th>\n",
       "      <th>...</th>\n",
       "      <th>Baggage handling</th>\n",
       "      <th>Checkin service</th>\n",
       "      <th>Inflight service</th>\n",
       "      <th>Cleanliness</th>\n",
       "      <th>Departure Delay in Minutes</th>\n",
       "      <th>Arrival Delay in Minutes</th>\n",
       "      <th>Gender_Male</th>\n",
       "      <th>Loyal Customer</th>\n",
       "      <th>Business Travel</th>\n",
       "      <th>satisfied</th>\n",
       "    </tr>\n",
       "  </thead>\n",
       "  <tbody>\n",
       "    <tr>\n",
       "      <th>0</th>\n",
       "      <td>26</td>\n",
       "      <td>3</td>\n",
       "      <td>2062</td>\n",
       "      <td>2</td>\n",
       "      <td>3</td>\n",
       "      <td>3</td>\n",
       "      <td>3</td>\n",
       "      <td>2</td>\n",
       "      <td>2</td>\n",
       "      <td>2</td>\n",
       "      <td>...</td>\n",
       "      <td>3</td>\n",
       "      <td>3</td>\n",
       "      <td>3</td>\n",
       "      <td>2</td>\n",
       "      <td>0</td>\n",
       "      <td>0</td>\n",
       "      <td>0</td>\n",
       "      <td>1</td>\n",
       "      <td>1</td>\n",
       "      <td>0</td>\n",
       "    </tr>\n",
       "    <tr>\n",
       "      <th>1</th>\n",
       "      <td>52</td>\n",
       "      <td>3</td>\n",
       "      <td>680</td>\n",
       "      <td>5</td>\n",
       "      <td>5</td>\n",
       "      <td>5</td>\n",
       "      <td>5</td>\n",
       "      <td>3</td>\n",
       "      <td>4</td>\n",
       "      <td>4</td>\n",
       "      <td>...</td>\n",
       "      <td>4</td>\n",
       "      <td>4</td>\n",
       "      <td>4</td>\n",
       "      <td>4</td>\n",
       "      <td>18</td>\n",
       "      <td>2</td>\n",
       "      <td>0</td>\n",
       "      <td>1</td>\n",
       "      <td>1</td>\n",
       "      <td>1</td>\n",
       "    </tr>\n",
       "    <tr>\n",
       "      <th>2</th>\n",
       "      <td>28</td>\n",
       "      <td>1</td>\n",
       "      <td>188</td>\n",
       "      <td>3</td>\n",
       "      <td>5</td>\n",
       "      <td>3</td>\n",
       "      <td>4</td>\n",
       "      <td>3</td>\n",
       "      <td>3</td>\n",
       "      <td>3</td>\n",
       "      <td>...</td>\n",
       "      <td>4</td>\n",
       "      <td>4</td>\n",
       "      <td>5</td>\n",
       "      <td>3</td>\n",
       "      <td>0</td>\n",
       "      <td>0</td>\n",
       "      <td>1</td>\n",
       "      <td>1</td>\n",
       "      <td>0</td>\n",
       "      <td>0</td>\n",
       "    </tr>\n",
       "    <tr>\n",
       "      <th>3</th>\n",
       "      <td>54</td>\n",
       "      <td>3</td>\n",
       "      <td>453</td>\n",
       "      <td>3</td>\n",
       "      <td>5</td>\n",
       "      <td>5</td>\n",
       "      <td>5</td>\n",
       "      <td>3</td>\n",
       "      <td>4</td>\n",
       "      <td>4</td>\n",
       "      <td>...</td>\n",
       "      <td>3</td>\n",
       "      <td>4</td>\n",
       "      <td>3</td>\n",
       "      <td>1</td>\n",
       "      <td>91</td>\n",
       "      <td>80</td>\n",
       "      <td>0</td>\n",
       "      <td>1</td>\n",
       "      <td>1</td>\n",
       "      <td>0</td>\n",
       "    </tr>\n",
       "    <tr>\n",
       "      <th>4</th>\n",
       "      <td>40</td>\n",
       "      <td>1</td>\n",
       "      <td>775</td>\n",
       "      <td>4</td>\n",
       "      <td>3</td>\n",
       "      <td>3</td>\n",
       "      <td>3</td>\n",
       "      <td>4</td>\n",
       "      <td>4</td>\n",
       "      <td>4</td>\n",
       "      <td>...</td>\n",
       "      <td>3</td>\n",
       "      <td>3</td>\n",
       "      <td>3</td>\n",
       "      <td>4</td>\n",
       "      <td>0</td>\n",
       "      <td>0</td>\n",
       "      <td>1</td>\n",
       "      <td>1</td>\n",
       "      <td>1</td>\n",
       "      <td>0</td>\n",
       "    </tr>\n",
       "  </tbody>\n",
       "</table>\n",
       "<p>5 rows × 23 columns</p>\n",
       "</div>"
      ],
      "text/plain": [
       "   Age  Class  Flight Distance  Inflight wifi service  \\\n",
       "0   26      3             2062                      2   \n",
       "1   52      3              680                      5   \n",
       "2   28      1              188                      3   \n",
       "3   54      3              453                      3   \n",
       "4   40      1              775                      4   \n",
       "\n",
       "   Departure/Arrival time convenient  Ease of Online booking  Gate location  \\\n",
       "0                                  3                       3              3   \n",
       "1                                  5                       5              5   \n",
       "2                                  5                       3              4   \n",
       "3                                  5                       5              5   \n",
       "4                                  3                       3              3   \n",
       "\n",
       "   Food and drink  Online boarding  Seat comfort  ...  Baggage handling  \\\n",
       "0               2                2             2  ...                 3   \n",
       "1               3                4             4  ...                 4   \n",
       "2               3                3             3  ...                 4   \n",
       "3               3                4             4  ...                 3   \n",
       "4               4                4             4  ...                 3   \n",
       "\n",
       "   Checkin service  Inflight service  Cleanliness  Departure Delay in Minutes  \\\n",
       "0                3                 3            2                           0   \n",
       "1                4                 4            4                          18   \n",
       "2                4                 5            3                           0   \n",
       "3                4                 3            1                          91   \n",
       "4                3                 3            4                           0   \n",
       "\n",
       "   Arrival Delay in Minutes  Gender_Male  Loyal Customer  Business Travel  \\\n",
       "0                         0            0               1                1   \n",
       "1                         2            0               1                1   \n",
       "2                         0            1               1                0   \n",
       "3                        80            0               1                1   \n",
       "4                         0            1               1                1   \n",
       "\n",
       "   satisfied  \n",
       "0          0  \n",
       "1          1  \n",
       "2          0  \n",
       "3          0  \n",
       "4          0  \n",
       "\n",
       "[5 rows x 23 columns]"
      ]
     },
     "execution_count": 5,
     "metadata": {},
     "output_type": "execute_result"
    }
   ],
   "source": [
    "# preview data\n",
    "df.headl"
   ]
  },
  {
   "cell_type": "markdown",
   "id": "641c39c1-50a3-4d48-b413-e40a04769355",
   "metadata": {},
   "source": [
    "#### 3. Prepare the data for modeling."
   ]
  },
  {
   "cell_type": "markdown",
   "id": "e7b66ad6-47eb-47bc-a74c-ee9a72e0b1b6",
   "metadata": {},
   "source": [
    "#### 4. Use a KMeans model to cluster the passengers into an optimal number of clusters.\n",
    "\n",
    "Use an elbow plot and silhouette score to find the optimal number of clusters.\n",
    "There must be between 2 and 10 clusters."
   ]
  },
  {
   "cell_type": "markdown",
   "id": "d9a43c49-da30-4e6f-bf69-bf162c042cf4",
   "metadata": {},
   "source": [
    "#### 5. Analyze and report on the clusters.\n",
    "\n",
    "Describe each cluster.\n",
    "\n",
    "How are the clusters different?\n",
    "\n",
    "Create 2 report quality explanatory visualizations showing important differences between the clusters.\n",
    "\n",
    "Interpret and explain each visualization."
   ]
  },
  {
   "cell_type": "markdown",
   "id": "8eefdc61-47b2-4b34-ad5c-7799d7f04d7e",
   "metadata": {},
   "source": [
    "### Modeling Instructions:\n",
    "\n",
    "The airline would also like to know how well overall satisfaction can be predicted from information about passengers and satisfaction with specific parts of their experience. Your target will be the 'satisfied' column."
   ]
  },
  {
   "cell_type": "code",
   "execution_count": null,
   "id": "b4011d1f-1394-4e5f-a67f-8acb603fab0a",
   "metadata": {},
   "outputs": [],
   "source": []
  },
  {
   "cell_type": "code",
   "execution_count": null,
   "id": "488f6a85-0921-463b-b5e9-bf58971b4638",
   "metadata": {},
   "outputs": [],
   "source": []
  },
  {
   "cell_type": "code",
   "execution_count": null,
   "id": "83fdefad-72db-4f7f-a4a8-f50e96d5f1d8",
   "metadata": {},
   "outputs": [],
   "source": []
  },
  {
   "cell_type": "code",
   "execution_count": null,
   "id": "e53e47e2-9b3e-4038-b7d5-a6bb2237e542",
   "metadata": {},
   "outputs": [],
   "source": []
  },
  {
   "cell_type": "markdown",
   "id": "74162d55-a629-4be2-ada3-d7bdf7791b3c",
   "metadata": {},
   "source": [
    "1. Use random_state = 42 for your train_test_split\n",
    "\n",
    "2. Use PCA to prepare the data for modeling.\n",
    "a. Reduce the number of features in the data\n",
    "b. Be sure to use the PCA-transformed data when you fit and validate your predictive model.\n",
    "\n",
    "3. Do not leak data while preparing your data for modeling.\n",
    "\n",
    "4. Use a deep learning model to predict whether customers will report that they were satisfied.​\n",
    "    a. Use the PCA-transformed data you created in Step 2.\n",
    "   \n",
    "    b. Create 3 different versions of a sequential model.\n",
    "   \n",
    "        i. Each new model should be an iteration of the previous model.\n",
    "\n",
    "       ii. Justify in writing why you changed what you did for each new model. (For example, why did you add  layers, regularization, nodes, etc)\n",
    "\n",
    "       iii. Adding or reducing epochs does not count as a new model.\n",
    "   \n",
    "    c. Use some form of regularization with at least one model.\n",
    "\n",
    "    d. Evaluate each model with multiple appropriate metrics.\n",
    "\n",
    "6. Choose a final model and justify your choice.\n",
    "\n",
    "7. Evaluate your final model with multiple metrics.\n",
    "\n",
    "8. Based on those metrics, explain in writing how well your model will solve the business problem."
   ]
  },
  {
   "cell_type": "code",
   "execution_count": null,
   "id": "90f6c9ce-3e89-4753-95f7-d4ab07d9abd4",
   "metadata": {},
   "outputs": [],
   "source": []
  },
  {
   "cell_type": "code",
   "execution_count": null,
   "id": "32014c6a-e3d4-4abe-ace1-ee4ac41fd00b",
   "metadata": {},
   "outputs": [],
   "source": []
  },
  {
   "cell_type": "code",
   "execution_count": null,
   "id": "d95ad1fd-8c70-4245-b5af-24cfd0a71499",
   "metadata": {},
   "outputs": [],
   "source": []
  },
  {
   "cell_type": "code",
   "execution_count": null,
   "id": "570f5668-7a5d-484a-a5d4-ecc125873689",
   "metadata": {},
   "outputs": [],
   "source": []
  },
  {
   "cell_type": "code",
   "execution_count": null,
   "id": "4c907339-7219-4f32-a7a6-50b0a602d89d",
   "metadata": {},
   "outputs": [],
   "source": []
  },
  {
   "cell_type": "code",
   "execution_count": null,
   "id": "205aef31-8337-4676-a9b6-b33434a7d748",
   "metadata": {},
   "outputs": [],
   "source": []
  },
  {
   "cell_type": "code",
   "execution_count": null,
   "id": "eaba0860-5754-4695-8b82-ab31d7925f09",
   "metadata": {},
   "outputs": [],
   "source": []
  },
  {
   "cell_type": "code",
   "execution_count": null,
   "id": "4a057c77-b9d2-4f55-be5e-f6883b73d90b",
   "metadata": {},
   "outputs": [],
   "source": []
  },
  {
   "cell_type": "code",
   "execution_count": null,
   "id": "139f6632-9b16-4c2d-b89e-2757324ceb7e",
   "metadata": {},
   "outputs": [],
   "source": []
  }
 ],
 "metadata": {
  "kernelspec": {
   "display_name": "Python (dojo-env)",
   "language": "python",
   "name": "dojo-env"
  },
  "language_info": {
   "codemirror_mode": {
    "name": "ipython",
    "version": 3
   },
   "file_extension": ".py",
   "mimetype": "text/x-python",
   "name": "python",
   "nbconvert_exporter": "python",
   "pygments_lexer": "ipython3",
   "version": "3.10.10"
  },
  "widgets": {
   "application/vnd.jupyter.widget-state+json": {
    "state": {},
    "version_major": 2,
    "version_minor": 0
   }
  }
 },
 "nbformat": 4,
 "nbformat_minor": 5
}
