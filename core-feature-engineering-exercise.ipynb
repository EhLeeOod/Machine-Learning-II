{
 "cells": [
  {
   "cell_type": "markdown",
   "id": "276577ba-9d43-4ecf-872c-3540f86a3fe3",
   "metadata": {},
   "source": [
    "# Feature Engineering Exercise\n",
    "Your task is to engineer some new features to try to improve a model's ability to predict the total number of bike share rentals during a given hour of the day."
   ]
  },
  {
   "cell_type": "markdown",
   "id": "b9d3b474-df45-4e8b-a6ac-c7a43a4a4431",
   "metadata": {},
   "source": [
    "## 1. Import the data the drop the 'casual' and 'registered' columns.\n",
    "These are redundant with your target, 'count'.\n"
   ]
  },
  {
   "cell_type": "code",
   "execution_count": 3,
   "id": "a6eaa870-68c6-431e-b81e-17129f7ebc77",
   "metadata": {},
   "outputs": [],
   "source": [
    "# import packages\n",
    "import pandas as pd"
   ]
  },
  {
   "cell_type": "code",
   "execution_count": 5,
   "id": "aa2a3d4e-a532-4e1e-965e-993ece97b2cf",
   "metadata": {},
   "outputs": [],
   "source": [
    "# import data\n",
    "df = pd.read_csv('Data/bikeshare_train - bikeshare_train.csv')"
   ]
  },
  {
   "cell_type": "code",
   "execution_count": 8,
   "id": "35a482cb-d035-4f5a-8e34-c0bf305300a3",
   "metadata": {},
   "outputs": [
    {
     "data": {
      "text/html": [
       "<div>\n",
       "<style scoped>\n",
       "    .dataframe tbody tr th:only-of-type {\n",
       "        vertical-align: middle;\n",
       "    }\n",
       "\n",
       "    .dataframe tbody tr th {\n",
       "        vertical-align: top;\n",
       "    }\n",
       "\n",
       "    .dataframe thead th {\n",
       "        text-align: right;\n",
       "    }\n",
       "</style>\n",
       "<table border=\"1\" class=\"dataframe\">\n",
       "  <thead>\n",
       "    <tr style=\"text-align: right;\">\n",
       "      <th></th>\n",
       "      <th>datetime</th>\n",
       "      <th>season</th>\n",
       "      <th>holiday</th>\n",
       "      <th>workingday</th>\n",
       "      <th>weather</th>\n",
       "      <th>temp</th>\n",
       "      <th>atemp</th>\n",
       "      <th>humidity</th>\n",
       "      <th>windspeed</th>\n",
       "      <th>casual</th>\n",
       "      <th>registered</th>\n",
       "      <th>count</th>\n",
       "    </tr>\n",
       "  </thead>\n",
       "  <tbody>\n",
       "    <tr>\n",
       "      <th>0</th>\n",
       "      <td>2011-01-01 0:00:00</td>\n",
       "      <td>1</td>\n",
       "      <td>0</td>\n",
       "      <td>0</td>\n",
       "      <td>1</td>\n",
       "      <td>9.84</td>\n",
       "      <td>14.395</td>\n",
       "      <td>81</td>\n",
       "      <td>0.0</td>\n",
       "      <td>3</td>\n",
       "      <td>13</td>\n",
       "      <td>16</td>\n",
       "    </tr>\n",
       "    <tr>\n",
       "      <th>1</th>\n",
       "      <td>2011-01-01 1:00:00</td>\n",
       "      <td>1</td>\n",
       "      <td>0</td>\n",
       "      <td>0</td>\n",
       "      <td>1</td>\n",
       "      <td>9.02</td>\n",
       "      <td>13.635</td>\n",
       "      <td>80</td>\n",
       "      <td>0.0</td>\n",
       "      <td>8</td>\n",
       "      <td>32</td>\n",
       "      <td>40</td>\n",
       "    </tr>\n",
       "    <tr>\n",
       "      <th>2</th>\n",
       "      <td>2011-01-01 2:00:00</td>\n",
       "      <td>1</td>\n",
       "      <td>0</td>\n",
       "      <td>0</td>\n",
       "      <td>1</td>\n",
       "      <td>9.02</td>\n",
       "      <td>13.635</td>\n",
       "      <td>80</td>\n",
       "      <td>0.0</td>\n",
       "      <td>5</td>\n",
       "      <td>27</td>\n",
       "      <td>32</td>\n",
       "    </tr>\n",
       "    <tr>\n",
       "      <th>3</th>\n",
       "      <td>2011-01-01 3:00:00</td>\n",
       "      <td>1</td>\n",
       "      <td>0</td>\n",
       "      <td>0</td>\n",
       "      <td>1</td>\n",
       "      <td>9.84</td>\n",
       "      <td>14.395</td>\n",
       "      <td>75</td>\n",
       "      <td>0.0</td>\n",
       "      <td>3</td>\n",
       "      <td>10</td>\n",
       "      <td>13</td>\n",
       "    </tr>\n",
       "    <tr>\n",
       "      <th>4</th>\n",
       "      <td>2011-01-01 4:00:00</td>\n",
       "      <td>1</td>\n",
       "      <td>0</td>\n",
       "      <td>0</td>\n",
       "      <td>1</td>\n",
       "      <td>9.84</td>\n",
       "      <td>14.395</td>\n",
       "      <td>75</td>\n",
       "      <td>0.0</td>\n",
       "      <td>0</td>\n",
       "      <td>1</td>\n",
       "      <td>1</td>\n",
       "    </tr>\n",
       "  </tbody>\n",
       "</table>\n",
       "</div>"
      ],
      "text/plain": [
       "             datetime  season  holiday  workingday  weather  temp   atemp  \\\n",
       "0  2011-01-01 0:00:00       1        0           0        1  9.84  14.395   \n",
       "1  2011-01-01 1:00:00       1        0           0        1  9.02  13.635   \n",
       "2  2011-01-01 2:00:00       1        0           0        1  9.02  13.635   \n",
       "3  2011-01-01 3:00:00       1        0           0        1  9.84  14.395   \n",
       "4  2011-01-01 4:00:00       1        0           0        1  9.84  14.395   \n",
       "\n",
       "   humidity  windspeed  casual  registered  count  \n",
       "0        81        0.0       3          13     16  \n",
       "1        80        0.0       8          32     40  \n",
       "2        80        0.0       5          27     32  \n",
       "3        75        0.0       3          10     13  \n",
       "4        75        0.0       0           1      1  "
      ]
     },
     "execution_count": 8,
     "metadata": {},
     "output_type": "execute_result"
    }
   ],
   "source": [
    "# preview data\n",
    "df.head()"
   ]
  },
  {
   "cell_type": "code",
   "execution_count": 9,
   "id": "cf29088c-fe4a-4fa3-9daf-5002f6fd71a9",
   "metadata": {},
   "outputs": [],
   "source": [
    "# drop casual and registered columns\n",
    "df = df.drop(columns=['casual','registered'])"
   ]
  },
  {
   "cell_type": "code",
   "execution_count": 10,
   "id": "6aefc612-e456-43cd-aa8d-de21d1b043eb",
   "metadata": {},
   "outputs": [
    {
     "name": "stdout",
     "output_type": "stream",
     "text": [
      "<class 'pandas.core.frame.DataFrame'>\n",
      "RangeIndex: 10886 entries, 0 to 10885\n",
      "Data columns (total 10 columns):\n",
      " #   Column      Non-Null Count  Dtype  \n",
      "---  ------      --------------  -----  \n",
      " 0   datetime    10886 non-null  object \n",
      " 1   season      10886 non-null  int64  \n",
      " 2   holiday     10886 non-null  int64  \n",
      " 3   workingday  10886 non-null  int64  \n",
      " 4   weather     10886 non-null  int64  \n",
      " 5   temp        10886 non-null  float64\n",
      " 6   atemp       10886 non-null  float64\n",
      " 7   humidity    10886 non-null  int64  \n",
      " 8   windspeed   10886 non-null  float64\n",
      " 9   count       10886 non-null  int64  \n",
      "dtypes: float64(3), int64(6), object(1)\n",
      "memory usage: 850.6+ KB\n"
     ]
    }
   ],
   "source": [
    "# verify changes\n",
    "df.info()"
   ]
  },
  {
   "cell_type": "markdown",
   "id": "30f402b6-c683-400a-9bdb-063595e84727",
   "metadata": {},
   "source": [
    "## 2. Transform the 'datetime' column into a datetime type and use it to create 3 new columns in the data frame containing the:"
   ]
  },
  {
   "cell_type": "code",
   "execution_count": 12,
   "id": "2ad466f0-e35a-43e2-a3e0-839c7f4f727d",
   "metadata": {},
   "outputs": [],
   "source": [
    "# convert datetime column to datetime datatype\n",
    "df['datetime'] = pd.to_datetime(df['datetime'])"
   ]
  },
  {
   "cell_type": "code",
   "execution_count": 13,
   "id": "b730fd47-5b87-434e-ad51-74f3a99db20f",
   "metadata": {},
   "outputs": [
    {
     "name": "stdout",
     "output_type": "stream",
     "text": [
      "<class 'pandas.core.frame.DataFrame'>\n",
      "RangeIndex: 10886 entries, 0 to 10885\n",
      "Data columns (total 10 columns):\n",
      " #   Column      Non-Null Count  Dtype         \n",
      "---  ------      --------------  -----         \n",
      " 0   datetime    10886 non-null  datetime64[ns]\n",
      " 1   season      10886 non-null  int64         \n",
      " 2   holiday     10886 non-null  int64         \n",
      " 3   workingday  10886 non-null  int64         \n",
      " 4   weather     10886 non-null  int64         \n",
      " 5   temp        10886 non-null  float64       \n",
      " 6   atemp       10886 non-null  float64       \n",
      " 7   humidity    10886 non-null  int64         \n",
      " 8   windspeed   10886 non-null  float64       \n",
      " 9   count       10886 non-null  int64         \n",
      "dtypes: datetime64[ns](1), float64(3), int64(6)\n",
      "memory usage: 850.6 KB\n"
     ]
    }
   ],
   "source": [
    "# verify change\n",
    "df.info()"
   ]
  },
  {
   "cell_type": "markdown",
   "id": "e2df56aa-8c17-4d76-a8ad-40bfc4076a2b",
   "metadata": {},
   "source": [
    "### Name of the Month"
   ]
  },
  {
   "cell_type": "code",
   "execution_count": 14,
   "id": "c9d16cf3-5c77-4237-bdd5-0d7e2bb3b4e6",
   "metadata": {},
   "outputs": [],
   "source": [
    "df['Month Name'] = df['datetime'].dt.month_name()"
   ]
  },
  {
   "cell_type": "markdown",
   "id": "816895d5-c6b7-4245-8b0f-a637f6add4aa",
   "metadata": {},
   "source": [
    "### Name of the Day of the Week"
   ]
  },
  {
   "cell_type": "code",
   "execution_count": 17,
   "id": "135212fc-f27a-456c-a029-ec8a17f3d0d5",
   "metadata": {},
   "outputs": [],
   "source": [
    "df['DOTW'] = df['datetime'].dt.day_name()"
   ]
  },
  {
   "cell_type": "markdown",
   "id": "2b189b88-05a8-4eea-a22b-5e0d32300c8b",
   "metadata": {},
   "source": [
    "### Hour of the Day"
   ]
  },
  {
   "cell_type": "code",
   "execution_count": 25,
   "id": "cfd8dda6-be2b-4713-af6e-2a1ded71b3c3",
   "metadata": {},
   "outputs": [],
   "source": [
    "df['Hour'] = df['datetime'].dt.hour.astype('object')"
   ]
  },
  {
   "cell_type": "markdown",
   "id": "1763c887-c8b4-4af0-8b5e-911b0e2134e5",
   "metadata": {},
   "source": [
    "#### # 1. Make sure all 3 new columns are 'object' datatype so they can be one-hot encoded later."
   ]
  },
  {
   "cell_type": "code",
   "execution_count": 26,
   "id": "0ac87f12-0c85-4b2a-8538-ca7284cd3dbe",
   "metadata": {},
   "outputs": [
    {
     "name": "stdout",
     "output_type": "stream",
     "text": [
      "<class 'pandas.core.frame.DataFrame'>\n",
      "RangeIndex: 10886 entries, 0 to 10885\n",
      "Data columns (total 13 columns):\n",
      " #   Column      Non-Null Count  Dtype         \n",
      "---  ------      --------------  -----         \n",
      " 0   datetime    10886 non-null  datetime64[ns]\n",
      " 1   season      10886 non-null  int64         \n",
      " 2   holiday     10886 non-null  int64         \n",
      " 3   workingday  10886 non-null  int64         \n",
      " 4   weather     10886 non-null  int64         \n",
      " 5   temp        10886 non-null  float64       \n",
      " 6   atemp       10886 non-null  float64       \n",
      " 7   humidity    10886 non-null  int64         \n",
      " 8   windspeed   10886 non-null  float64       \n",
      " 9   count       10886 non-null  int64         \n",
      " 10  Month Name  10886 non-null  object        \n",
      " 11  DOTW        10886 non-null  object        \n",
      " 12  Hour        10886 non-null  object        \n",
      "dtypes: datetime64[ns](1), float64(3), int64(6), object(3)\n",
      "memory usage: 1.1+ MB\n"
     ]
    }
   ],
   "source": [
    "df.info()"
   ]
  },
  {
   "cell_type": "markdown",
   "id": "039ec5eb-496e-4622-9e83-497fd88c4bfa",
   "metadata": {},
   "source": [
    "#### 2. Drop the 'datetime' and 'season' columns. These are now redundant."
   ]
  },
  {
   "cell_type": "code",
   "execution_count": 27,
   "id": "d646b9aa-4afa-4033-ae02-4034df978319",
   "metadata": {},
   "outputs": [],
   "source": [
    "df = df.drop(columns=['datetime','season'])"
   ]
  },
  {
   "cell_type": "code",
   "execution_count": 28,
   "id": "4eee4cb3-c94d-47b8-beba-4565bc0b28ba",
   "metadata": {},
   "outputs": [
    {
     "name": "stdout",
     "output_type": "stream",
     "text": [
      "<class 'pandas.core.frame.DataFrame'>\n",
      "RangeIndex: 10886 entries, 0 to 10885\n",
      "Data columns (total 11 columns):\n",
      " #   Column      Non-Null Count  Dtype  \n",
      "---  ------      --------------  -----  \n",
      " 0   holiday     10886 non-null  int64  \n",
      " 1   workingday  10886 non-null  int64  \n",
      " 2   weather     10886 non-null  int64  \n",
      " 3   temp        10886 non-null  float64\n",
      " 4   atemp       10886 non-null  float64\n",
      " 5   humidity    10886 non-null  int64  \n",
      " 6   windspeed   10886 non-null  float64\n",
      " 7   count       10886 non-null  int64  \n",
      " 8   Month Name  10886 non-null  object \n",
      " 9   DOTW        10886 non-null  object \n",
      " 10  Hour        10886 non-null  object \n",
      "dtypes: float64(3), int64(5), object(3)\n",
      "memory usage: 935.6+ KB\n"
     ]
    }
   ],
   "source": [
    "# verify changes\n",
    "df.info()"
   ]
  },
  {
   "cell_type": "markdown",
   "id": "7f3b1b1f-1372-4482-b8d9-9c397d80c2cd",
   "metadata": {},
   "source": [
    "## 3. The temperatures in the 'temp' and 'atemp' columns are in Celsius. Use `.apply()` and a Lambda function to convert them to Fahrenheit."
   ]
  },
  {
   "cell_type": "code",
   "execution_count": 32,
   "id": "ef70f1d2-73f7-4a8b-af13-30ae6b84f047",
   "metadata": {},
   "outputs": [],
   "source": [
    "# convert temp from c to f\n",
    "df['temp'] = df['temp'].apply(lambda x: x*9/5+32)"
   ]
  },
  {
   "cell_type": "code",
   "execution_count": 38,
   "id": "fb11b985-6095-4f25-a2ae-a1de18ead7bd",
   "metadata": {},
   "outputs": [
    {
     "data": {
      "text/plain": [
       "0    49.712\n",
       "1    48.236\n",
       "2    48.236\n",
       "3    49.712\n",
       "4    49.712\n",
       "Name: temp, dtype: float64"
      ]
     },
     "execution_count": 38,
     "metadata": {},
     "output_type": "execute_result"
    }
   ],
   "source": [
    "# verify changes\n",
    "df['temp'].head()"
   ]
  },
  {
   "cell_type": "code",
   "execution_count": 35,
   "id": "7cea47e9-3e91-4cb2-80fa-00fe3b414330",
   "metadata": {},
   "outputs": [],
   "source": [
    "# convert atemp from c to f\n",
    "df['atemp'] = df['atemp'].apply(lambda x: x*9/5+32)"
   ]
  },
  {
   "cell_type": "code",
   "execution_count": 39,
   "id": "bec6be16-e9b9-41bd-ab80-885bda8e296d",
   "metadata": {},
   "outputs": [
    {
     "data": {
      "text/plain": [
       "0    57.911\n",
       "1    56.543\n",
       "2    56.543\n",
       "3    57.911\n",
       "4    57.911\n",
       "Name: atemp, dtype: float64"
      ]
     },
     "execution_count": 39,
     "metadata": {},
     "output_type": "execute_result"
    }
   ],
   "source": [
    "# verify changes\n",
    "df['atemp'].head()"
   ]
  },
  {
   "cell_type": "markdown",
   "id": "29660c37-65c7-4bd5-ad84-10903ffc1262",
   "metadata": {},
   "source": [
    "## 4. Create a new column, 'temp_variance,' which shows how much warmer or colder the current temperature ('temp') is than the average temperature for that day of the year ('atemp').\n",
    "### If the current temperature is warmer than average ('atemp'), the value in 'temp_variance' should be positive."
   ]
  },
  {
   "cell_type": "code",
   "execution_count": 62,
   "id": "d3b37d08-b58d-4cc1-9fbc-7abbc9a5d1a4",
   "metadata": {},
   "outputs": [],
   "source": [
    "# create function for temp_variance column\n",
    "def current_temp(curr):\n",
    "    avg_temp = df['atemp']\n",
    "    curr = df['temp']\n",
    "    return curr - avg_temp"
   ]
  },
  {
   "cell_type": "code",
   "execution_count": 67,
   "id": "133a0a7c-77e1-43ca-adbc-5aeff3b1a88b",
   "metadata": {},
   "outputs": [],
   "source": [
    "# create new column by running function\n",
    "df['temp_variance'] = current_temp(df['atemp'])"
   ]
  },
  {
   "cell_type": "code",
   "execution_count": 73,
   "id": "b436a4ba-494e-4401-be39-86cf322dfb37",
   "metadata": {},
   "outputs": [
    {
     "data": {
      "text/html": [
       "<div>\n",
       "<style scoped>\n",
       "    .dataframe tbody tr th:only-of-type {\n",
       "        vertical-align: middle;\n",
       "    }\n",
       "\n",
       "    .dataframe tbody tr th {\n",
       "        vertical-align: top;\n",
       "    }\n",
       "\n",
       "    .dataframe thead th {\n",
       "        text-align: right;\n",
       "    }\n",
       "</style>\n",
       "<table border=\"1\" class=\"dataframe\">\n",
       "  <thead>\n",
       "    <tr style=\"text-align: right;\">\n",
       "      <th></th>\n",
       "      <th>holiday</th>\n",
       "      <th>workingday</th>\n",
       "      <th>weather</th>\n",
       "      <th>temp</th>\n",
       "      <th>atemp</th>\n",
       "      <th>humidity</th>\n",
       "      <th>windspeed</th>\n",
       "      <th>count</th>\n",
       "      <th>Month Name</th>\n",
       "      <th>DOTW</th>\n",
       "      <th>Hour</th>\n",
       "      <th>temp_variance</th>\n",
       "    </tr>\n",
       "  </thead>\n",
       "  <tbody>\n",
       "    <tr>\n",
       "      <th>0</th>\n",
       "      <td>0</td>\n",
       "      <td>0</td>\n",
       "      <td>1</td>\n",
       "      <td>49.712</td>\n",
       "      <td>57.911</td>\n",
       "      <td>81</td>\n",
       "      <td>0.0</td>\n",
       "      <td>16</td>\n",
       "      <td>January</td>\n",
       "      <td>Saturday</td>\n",
       "      <td>0</td>\n",
       "      <td>-8.199</td>\n",
       "    </tr>\n",
       "    <tr>\n",
       "      <th>1</th>\n",
       "      <td>0</td>\n",
       "      <td>0</td>\n",
       "      <td>1</td>\n",
       "      <td>48.236</td>\n",
       "      <td>56.543</td>\n",
       "      <td>80</td>\n",
       "      <td>0.0</td>\n",
       "      <td>40</td>\n",
       "      <td>January</td>\n",
       "      <td>Saturday</td>\n",
       "      <td>1</td>\n",
       "      <td>-8.307</td>\n",
       "    </tr>\n",
       "    <tr>\n",
       "      <th>2</th>\n",
       "      <td>0</td>\n",
       "      <td>0</td>\n",
       "      <td>1</td>\n",
       "      <td>48.236</td>\n",
       "      <td>56.543</td>\n",
       "      <td>80</td>\n",
       "      <td>0.0</td>\n",
       "      <td>32</td>\n",
       "      <td>January</td>\n",
       "      <td>Saturday</td>\n",
       "      <td>2</td>\n",
       "      <td>-8.307</td>\n",
       "    </tr>\n",
       "    <tr>\n",
       "      <th>3</th>\n",
       "      <td>0</td>\n",
       "      <td>0</td>\n",
       "      <td>1</td>\n",
       "      <td>49.712</td>\n",
       "      <td>57.911</td>\n",
       "      <td>75</td>\n",
       "      <td>0.0</td>\n",
       "      <td>13</td>\n",
       "      <td>January</td>\n",
       "      <td>Saturday</td>\n",
       "      <td>3</td>\n",
       "      <td>-8.199</td>\n",
       "    </tr>\n",
       "    <tr>\n",
       "      <th>4</th>\n",
       "      <td>0</td>\n",
       "      <td>0</td>\n",
       "      <td>1</td>\n",
       "      <td>49.712</td>\n",
       "      <td>57.911</td>\n",
       "      <td>75</td>\n",
       "      <td>0.0</td>\n",
       "      <td>1</td>\n",
       "      <td>January</td>\n",
       "      <td>Saturday</td>\n",
       "      <td>4</td>\n",
       "      <td>-8.199</td>\n",
       "    </tr>\n",
       "  </tbody>\n",
       "</table>\n",
       "</div>"
      ],
      "text/plain": [
       "   holiday  workingday  weather    temp   atemp  humidity  windspeed  count  \\\n",
       "0        0           0        1  49.712  57.911        81        0.0     16   \n",
       "1        0           0        1  48.236  56.543        80        0.0     40   \n",
       "2        0           0        1  48.236  56.543        80        0.0     32   \n",
       "3        0           0        1  49.712  57.911        75        0.0     13   \n",
       "4        0           0        1  49.712  57.911        75        0.0      1   \n",
       "\n",
       "  Month Name      DOTW Hour  temp_variance  \n",
       "0    January  Saturday    0         -8.199  \n",
       "1    January  Saturday    1         -8.307  \n",
       "2    January  Saturday    2         -8.307  \n",
       "3    January  Saturday    3         -8.199  \n",
       "4    January  Saturday    4         -8.199  "
      ]
     },
     "execution_count": 73,
     "metadata": {},
     "output_type": "execute_result"
    }
   ],
   "source": [
    "# preview changes\n",
    "df.head()"
   ]
  },
  {
   "cell_type": "markdown",
   "id": "ec9060ac-6ec9-4392-8006-3e41e5c0b9d1",
   "metadata": {},
   "source": [
    "#### 1. Drop the 'atemp' column."
   ]
  },
  {
   "cell_type": "code",
   "execution_count": 74,
   "id": "58181f8a-ec4e-455e-ae88-14b1819db703",
   "metadata": {},
   "outputs": [],
   "source": [
    "df = df.drop(columns=['atemp'])"
   ]
  },
  {
   "cell_type": "code",
   "execution_count": 75,
   "id": "6268764b-0099-4ad8-96df-ffeb8e107491",
   "metadata": {},
   "outputs": [
    {
     "name": "stdout",
     "output_type": "stream",
     "text": [
      "<class 'pandas.core.frame.DataFrame'>\n",
      "RangeIndex: 10886 entries, 0 to 10885\n",
      "Data columns (total 11 columns):\n",
      " #   Column         Non-Null Count  Dtype  \n",
      "---  ------         --------------  -----  \n",
      " 0   holiday        10886 non-null  int64  \n",
      " 1   workingday     10886 non-null  int64  \n",
      " 2   weather        10886 non-null  int64  \n",
      " 3   temp           10886 non-null  float64\n",
      " 4   humidity       10886 non-null  int64  \n",
      " 5   windspeed      10886 non-null  float64\n",
      " 6   count          10886 non-null  int64  \n",
      " 7   Month Name     10886 non-null  object \n",
      " 8   DOTW           10886 non-null  object \n",
      " 9   Hour           10886 non-null  object \n",
      " 10  temp_variance  10886 non-null  float64\n",
      "dtypes: float64(3), int64(5), object(3)\n",
      "memory usage: 935.6+ KB\n"
     ]
    }
   ],
   "source": [
    "# verify changes\n",
    "df.info()"
   ]
  }
 ],
 "metadata": {
  "kernelspec": {
   "display_name": "Python (dojo-env)",
   "language": "python",
   "name": "dojo-env"
  },
  "language_info": {
   "codemirror_mode": {
    "name": "ipython",
    "version": 3
   },
   "file_extension": ".py",
   "mimetype": "text/x-python",
   "name": "python",
   "nbconvert_exporter": "python",
   "pygments_lexer": "ipython3",
   "version": "3.10.10"
  },
  "widgets": {
   "application/vnd.jupyter.widget-state+json": {
    "state": {},
    "version_major": 2,
    "version_minor": 0
   }
  }
 },
 "nbformat": 4,
 "nbformat_minor": 5
}
