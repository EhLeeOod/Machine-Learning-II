{
 "cells": [
  {
   "cell_type": "markdown",
   "id": "7e10cd62-07aa-4fbf-80c4-42399a83e09c",
   "metadata": {},
   "source": [
    "# Lesson: Evaluating Neural Networks"
   ]
  },
  {
   "cell_type": "markdown",
   "id": "eee39e6a-72dc-483b-8605-208cc4009cce",
   "metadata": {},
   "source": [
    "## Imports"
   ]
  },
  {
   "cell_type": "code",
   "execution_count": 2,
   "id": "48394771-db2f-431e-9146-94ace6fd3922",
   "metadata": {},
   "outputs": [],
   "source": [
    "# Basic Imports\n",
    "import numpy as np\n",
    "import matplotlib.pyplot as plt\n",
    "import pandas as pd\n",
    "# Preprocessing tools\n",
    "from sklearn.preprocessing import StandardScaler, LabelEncoder, OneHotEncoder\n",
    "from sklearn.model_selection import train_test_split\n",
    "from sklearn.impute import SimpleImputer\n",
    "from sklearn.pipeline import make_pipeline\n",
    "from sklearn.compose import ColumnTransformer\n",
    "# Deep learning tools\n",
    "import tensorflow as tf\n",
    "from tensorflow.keras.models import Sequential\n",
    "from tensorflow.keras.layers import Dense\n",
    "from sklearn import set_config\n",
    "set_config(transform_output='pandas')"
   ]
  },
  {
   "cell_type": "code",
   "execution_count": 3,
   "id": "376dd1a7-767a-4bd5-baf6-5dbcd5255246",
   "metadata": {},
   "outputs": [],
   "source": [
    "# import data with id column as idx\n",
    "df = pd.read_csv('Data/cancer.csv', index_col=0)"
   ]
  },
  {
   "cell_type": "markdown",
   "id": "f1ff03c7-3369-4e20-8c75-5acb0a98ffd4",
   "metadata": {},
   "source": [
    "## Step 1: Define Network Structure"
   ]
  },
  {
   "cell_type": "code",
   "execution_count": 4,
   "id": "8beff1a9-5b91-425d-b1e8-bb1394627442",
   "metadata": {},
   "outputs": [
    {
     "ename": "NameError",
     "evalue": "name 'input_shape' is not defined",
     "output_type": "error",
     "traceback": [
      "\u001b[1;31m---------------------------------------------------------------------------\u001b[0m",
      "\u001b[1;31mNameError\u001b[0m                                 Traceback (most recent call last)",
      "Cell \u001b[1;32mIn[4], line 6\u001b[0m\n\u001b[0;32m      2\u001b[0m model \u001b[38;5;241m=\u001b[39m Sequential()\n\u001b[0;32m      4\u001b[0m \u001b[38;5;66;03m# First hidden layer\u001b[39;00m\n\u001b[0;32m      5\u001b[0m model\u001b[38;5;241m.\u001b[39madd(Dense(\u001b[38;5;241m30\u001b[39m, \u001b[38;5;66;03m# How many neurons you have in your first hidden layer\u001b[39;00m\n\u001b[1;32m----> 6\u001b[0m                 input_dim \u001b[38;5;241m=\u001b[39m \u001b[43minput_shape\u001b[49m, \u001b[38;5;66;03m# What is the shape of your input features (number of columns)\u001b[39;00m\n\u001b[0;32m      7\u001b[0m                 activation \u001b[38;5;241m=\u001b[39m \u001b[38;5;124m'\u001b[39m\u001b[38;5;124mrelu\u001b[39m\u001b[38;5;124m'\u001b[39m)) \u001b[38;5;66;03m# What activation function are you using?\u001b[39;00m\n\u001b[0;32m      8\u001b[0m \u001b[38;5;66;03m# Second hidden layer\u001b[39;00m\n\u001b[0;32m      9\u001b[0m model\u001b[38;5;241m.\u001b[39madd(Dense(\u001b[38;5;241m10\u001b[39m, \u001b[38;5;66;03m# How many neurons you have in your second hidden layer\u001b[39;00m\n\u001b[0;32m     10\u001b[0m                 activation \u001b[38;5;241m=\u001b[39m \u001b[38;5;124m'\u001b[39m\u001b[38;5;124mrelu\u001b[39m\u001b[38;5;124m'\u001b[39m)) \u001b[38;5;66;03m# What activation function are you using?\u001b[39;00m\n",
      "\u001b[1;31mNameError\u001b[0m: name 'input_shape' is not defined"
     ]
    }
   ],
   "source": [
    "# Sequential model\n",
    "model = Sequential()\n",
    "\n",
    "# First hidden layer\n",
    "model.add(Dense(30, # How many neurons you have in your first hidden layer\n",
    "                input_dim = input_shape, # What is the shape of your input features (number of columns)\n",
    "                activation = 'relu')) # What activation function are you using?\n",
    "# Second hidden layer\n",
    "model.add(Dense(10, # How many neurons you have in your second hidden layer\n",
    "                activation = 'relu')) # What activation function are you using?\n",
    "# Output layer\n",
    "model.add(Dense(1, activation = 'sigmoid'))"
   ]
  },
  {
   "cell_type": "code",
   "execution_count": null,
   "id": "873fb9d2-9701-43b9-9cfe-adeec88126d1",
   "metadata": {},
   "outputs": [],
   "source": [
    "## Step 2: Compile Model (w/additiona"
   ]
  },
  {
   "cell_type": "code",
   "execution_count": null,
   "id": "a192b1e1-669a-4018-9fb2-4718977124ee",
   "metadata": {},
   "outputs": [],
   "source": []
  },
  {
   "cell_type": "code",
   "execution_count": null,
   "id": "37ad10a1-5019-42f5-9941-53d420ac7130",
   "metadata": {},
   "outputs": [],
   "source": []
  },
  {
   "cell_type": "code",
   "execution_count": null,
   "id": "f511c791-84ed-4a7d-90f7-877a30b3d0fb",
   "metadata": {},
   "outputs": [],
   "source": []
  },
  {
   "cell_type": "code",
   "execution_count": null,
   "id": "ece357a5-2572-4b01-a444-9da0e3584567",
   "metadata": {},
   "outputs": [],
   "source": []
  },
  {
   "cell_type": "code",
   "execution_count": null,
   "id": "a927cb1d-ae8a-474c-b55b-8dedd5f3cf66",
   "metadata": {},
   "outputs": [],
   "source": []
  },
  {
   "cell_type": "code",
   "execution_count": null,
   "id": "a9c8ecd3-d136-4d2c-98b5-5ba8b02384ff",
   "metadata": {},
   "outputs": [],
   "source": []
  },
  {
   "cell_type": "code",
   "execution_count": null,
   "id": "70a79474-c35f-4b4a-85bc-f8e027d256b6",
   "metadata": {},
   "outputs": [],
   "source": []
  }
 ],
 "metadata": {
  "kernelspec": {
   "display_name": "Python (dojo-env)",
   "language": "python",
   "name": "dojo-env"
  },
  "language_info": {
   "codemirror_mode": {
    "name": "ipython",
    "version": 3
   },
   "file_extension": ".py",
   "mimetype": "text/x-python",
   "name": "python",
   "nbconvert_exporter": "python",
   "pygments_lexer": "ipython3",
   "version": "3.10.10"
  },
  "widgets": {
   "application/vnd.jupyter.widget-state+json": {
    "state": {},
    "version_major": 2,
    "version_minor": 0
   }
  }
 },
 "nbformat": 4,
 "nbformat_minor": 5
}
